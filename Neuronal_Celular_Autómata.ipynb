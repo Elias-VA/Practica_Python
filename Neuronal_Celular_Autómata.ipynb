{
  "cells": [
    {
      "cell_type": "markdown",
      "metadata": {
        "id": "view-in-github",
        "colab_type": "text"
      },
      "source": [
        "<a href=\"https://colab.research.google.com/github/Elias-VA/Practica_Python/blob/main/Neuronal_Celular_Aut%C3%B3mata.ipynb\" target=\"_parent\"><img src=\"https://colab.research.google.com/assets/colab-badge.svg\" alt=\"Open In Colab\"/></a>"
      ]
    },
    {
      "cell_type": "code",
      "source": [
        "\"\"\"Biblioteca\"\"\"\n",
        "import PIL\n",
        "import numpy as np\n",
        "import matplotlib.pyplot as plt\n",
        "from tensorflow.keras.layers import Conv2D\n",
        "import tensorflow as tf\n",
        "import cv2\n",
        "from IPython.display import clear_output\n",
        "from PIL import Image\n",
        "import time"
      ],
      "metadata": {
        "id": "AuLEIMwQevR4"
      },
      "execution_count": 1,
      "outputs": []
    },
    {
      "cell_type": "code",
      "execution_count": 2,
      "metadata": {
        "colab": {
          "base_uri": "https://localhost:8080/",
          "height": 545
        },
        "id": "Oe0Wcnjs_RAZ",
        "outputId": "ec12a726-ebdb-46c6-c24a-9789463d3672"
      },
      "outputs": [
        {
          "output_type": "stream",
          "name": "stdout",
          "text": [
            "Introduzca la direccion de la imagen a replicar:/content/drive/MyDrive/Poyecto_tesis_Licenciatura/Imagenes_replicar/Primer_tomo/Replicar_Celular_Automata/Slide_156.png\n",
            "Introduzca la dimensión de la imagen100\n",
            "Estas son las dimensiones de la imagen entrante  (100, 100, 4)\n"
          ]
        },
        {
          "output_type": "display_data",
          "data": {
            "text/plain": [
              "<Figure size 640x480 with 1 Axes>"
            ],
            "image/png": "[encoded data removed]"
          },
          "metadata": {}
        },
        {
          "output_type": "stream",
          "name": "stdout",
          "text": [
            "Dimensiones de la imagen que se trabajará  (100, 100, 3)\n",
            "Maximo y minimo de la imagen 1.0 0.0\n"
          ]
        }
      ],
      "source": [
        "\n",
        "TARGET_IMAGE = input('Introduzca la direccion de la imagen a replicar:')\n",
        "TARGET_SIZE = int(input('Introduzca la dimensión de la imagen'))\n",
        "\n",
        "def load_image(TARGET_IMAGE, TARGET_SIZE):\n",
        "    img = Image.open(TARGET_IMAGE)\n",
        "    img.thumbnail((TARGET_SIZE, TARGET_SIZE), Image.LANCZOS)\n",
        "    img = np.float32(img) / 255.0\n",
        "    img[..., :3] *= img[..., 3:]\n",
        "\n",
        "    return img\n",
        "\n",
        "\n",
        "target = load_image(TARGET_IMAGE, TARGET_SIZE)\n",
        "\n",
        "print('Estas son las dimensiones de la imagen entrante ', target.shape)\n",
        "\n",
        "def to_rgb(x):\n",
        "    # asumir que el rgb está premultiplicado por alfa\n",
        "    rgb, a = x[..., :3], x[..., 3:4]\n",
        "    return 1.0 - a + rgb\n",
        "\n",
        "plt.imshow(to_rgb(target))\n",
        "plt.show()\n",
        "print('Dimensiones de la imagen que se trabajará ', to_rgb(target).shape)\n",
        "print('Maximo y minimo de la imagen', np.max(to_rgb(target)), np.min(to_rgb(target)))"
      ]
    },
    {
      "cell_type": "code",
      "source": [
        "\"\"\"Generar modelo automata\"\"\"\n",
        "CHN = 16\n",
        "\n",
        "seed = np.zeros([1, TARGET_SIZE, TARGET_SIZE, CHN], np.float32)\n",
        "seed[:, TARGET_SIZE//2, TARGET_SIZE//2, 3:] = 1.0\n",
        "\n",
        "class CAModel(tf.keras.Model):\n",
        "    def __init__(self, CHN):\n",
        "        super(CAModel, self).__init__()\n",
        "        self.model = tf.keras.Sequential([\n",
        "            Conv2D(128, 5, padding='same', activation=tf.nn.relu, input_shape=(TARGET_SIZE, TARGET_SIZE, CHN)),\n",
        "            Conv2D(64, 5, padding='same', activation=tf.nn.relu),\n",
        "            Conv2D(CHN, 1, padding='same', kernel_initializer=tf.zeros_initializer)\n",
        "        ])\n",
        "\n",
        "    @tf.function\n",
        "    def call(self, x):\n",
        "        return x + self.model(x)\n",
        "\n",
        "# Crear una instancia del modelo\n",
        "camodel = CAModel(CHN)\n",
        "\n",
        "# Ver el resumen del modelo\n",
        "camodel.model.summary()"
      ],
      "metadata": {
        "colab": {
          "base_uri": "https://localhost:8080/",
          "height": 291
        },
        "id": "XhOrv9usgfK7",
        "outputId": "dac9e9d4-def9-4417-c934-f52ae91d92a6"
      },
      "execution_count": 3,
      "outputs": [
        {
          "output_type": "stream",
          "name": "stderr",
          "text": [
            "/usr/local/lib/python3.10/dist-packages/keras/src/layers/convolutional/base_conv.py:107: UserWarning: Do not pass an `input_shape`/`input_dim` argument to a layer. When using Sequential models, prefer using an `Input(shape)` object as the first layer in the model instead.\n",
            "  super().__init__(activity_regularizer=activity_regularizer, **kwargs)\n"
          ]
        },
        {
          "output_type": "display_data",
          "data": {
            "text/plain": [
              "\u001b[1mModel: \"sequential\"\u001b[0m\n"
            ],
            "text/html": [
              "<pre style=\"white-space:pre;overflow-x:auto;line-height:normal;font-family:Menlo,'DejaVu Sans Mono',consolas,'Courier New',monospace\"><span style=\"font-weight: bold\">Model: \"sequential\"</span>\n",
              "</pre>\n"
            ]
          },
          "metadata": {}
        },
        {
          "output_type": "display_data",
          "data": {
            "text/plain": [
              "┏━━━━━━━━━━━━━━━━━━━━━━━━━━━━━━━━━━━━━━┳━━━━━━━━━━━━━━━━━━━━━━━━━━━━━┳━━━━━━━━━━━━━━━━━┓\n",
              "┃\u001b[1m \u001b[0m\u001b[1mLayer (type)                        \u001b[0m\u001b[1m \u001b[0m┃\u001b[1m \u001b[0m\u001b[1mOutput Shape               \u001b[0m\u001b[1m \u001b[0m┃\u001b[1m \u001b[0m\u001b[1m        Param #\u001b[0m\u001b[1m \u001b[0m┃\n",
              "┡━━━━━━━━━━━━━━━━━━━━━━━━━━━━━━━━━━━━━━╇━━━━━━━━━━━━━━━━━━━━━━━━━━━━━╇━━━━━━━━━━━━━━━━━┩\n",
              "│ conv2d (\u001b[38;5;33mConv2D\u001b[0m)                      │ (\u001b[38;5;45mNone\u001b[0m, \u001b[38;5;34m100\u001b[0m, \u001b[38;5;34m100\u001b[0m, \u001b[38;5;34m128\u001b[0m)       │          \u001b[38;5;34m51,328\u001b[0m │\n",
              "├──────────────────────────────────────┼─────────────────────────────┼─────────────────┤\n",
              "│ conv2d_1 (\u001b[38;5;33mConv2D\u001b[0m)                    │ (\u001b[38;5;45mNone\u001b[0m, \u001b[38;5;34m100\u001b[0m, \u001b[38;5;34m100\u001b[0m, \u001b[38;5;34m64\u001b[0m)        │         \u001b[38;5;34m204,864\u001b[0m │\n",
              "├──────────────────────────────────────┼─────────────────────────────┼─────────────────┤\n",
              "│ conv2d_2 (\u001b[38;5;33mConv2D\u001b[0m)                    │ (\u001b[38;5;45mNone\u001b[0m, \u001b[38;5;34m100\u001b[0m, \u001b[38;5;34m100\u001b[0m, \u001b[38;5;34m16\u001b[0m)        │           \u001b[38;5;34m1,040\u001b[0m │\n",
              "└──────────────────────────────────────┴─────────────────────────────┴─────────────────┘\n"
            ],
            "text/html": [
              "<pre style=\"white-space:pre;overflow-x:auto;line-height:normal;font-family:Menlo,'DejaVu Sans Mono',consolas,'Courier New',monospace\">┏━━━━━━━━━━━━━━━━━━━━━━━━━━━━━━━━━━━━━━┳━━━━━━━━━━━━━━━━━━━━━━━━━━━━━┳━━━━━━━━━━━━━━━━━┓\n",
              "┃<span style=\"font-weight: bold\"> Layer (type)                         </span>┃<span style=\"font-weight: bold\"> Output Shape                </span>┃<span style=\"font-weight: bold\">         Param # </span>┃\n",
              "┡━━━━━━━━━━━━━━━━━━━━━━━━━━━━━━━━━━━━━━╇━━━━━━━━━━━━━━━━━━━━━━━━━━━━━╇━━━━━━━━━━━━━━━━━┩\n",
              "│ conv2d (<span style=\"color: #0087ff; text-decoration-color: #0087ff\">Conv2D</span>)                      │ (<span style=\"color: #00d7ff; text-decoration-color: #00d7ff\">None</span>, <span style=\"color: #00af00; text-decoration-color: #00af00\">100</span>, <span style=\"color: #00af00; text-decoration-color: #00af00\">100</span>, <span style=\"color: #00af00; text-decoration-color: #00af00\">128</span>)       │          <span style=\"color: #00af00; text-decoration-color: #00af00\">51,328</span> │\n",
              "├──────────────────────────────────────┼─────────────────────────────┼─────────────────┤\n",
              "│ conv2d_1 (<span style=\"color: #0087ff; text-decoration-color: #0087ff\">Conv2D</span>)                    │ (<span style=\"color: #00d7ff; text-decoration-color: #00d7ff\">None</span>, <span style=\"color: #00af00; text-decoration-color: #00af00\">100</span>, <span style=\"color: #00af00; text-decoration-color: #00af00\">100</span>, <span style=\"color: #00af00; text-decoration-color: #00af00\">64</span>)        │         <span style=\"color: #00af00; text-decoration-color: #00af00\">204,864</span> │\n",
              "├──────────────────────────────────────┼─────────────────────────────┼─────────────────┤\n",
              "│ conv2d_2 (<span style=\"color: #0087ff; text-decoration-color: #0087ff\">Conv2D</span>)                    │ (<span style=\"color: #00d7ff; text-decoration-color: #00d7ff\">None</span>, <span style=\"color: #00af00; text-decoration-color: #00af00\">100</span>, <span style=\"color: #00af00; text-decoration-color: #00af00\">100</span>, <span style=\"color: #00af00; text-decoration-color: #00af00\">16</span>)        │           <span style=\"color: #00af00; text-decoration-color: #00af00\">1,040</span> │\n",
              "└──────────────────────────────────────┴─────────────────────────────┴─────────────────┘\n",
              "</pre>\n"
            ]
          },
          "metadata": {}
        },
        {
          "output_type": "display_data",
          "data": {
            "text/plain": [
              "\u001b[1m Total params: \u001b[0m\u001b[38;5;34m257,232\u001b[0m (1004.81 KB)\n"
            ],
            "text/html": [
              "<pre style=\"white-space:pre;overflow-x:auto;line-height:normal;font-family:Menlo,'DejaVu Sans Mono',consolas,'Courier New',monospace\"><span style=\"font-weight: bold\"> Total params: </span><span style=\"color: #00af00; text-decoration-color: #00af00\">257,232</span> (1004.81 KB)\n",
              "</pre>\n"
            ]
          },
          "metadata": {}
        },
        {
          "output_type": "display_data",
          "data": {
            "text/plain": [
              "\u001b[1m Trainable params: \u001b[0m\u001b[38;5;34m257,232\u001b[0m (1004.81 KB)\n"
            ],
            "text/html": [
              "<pre style=\"white-space:pre;overflow-x:auto;line-height:normal;font-family:Menlo,'DejaVu Sans Mono',consolas,'Courier New',monospace\"><span style=\"font-weight: bold\"> Trainable params: </span><span style=\"color: #00af00; text-decoration-color: #00af00\">257,232</span> (1004.81 KB)\n",
              "</pre>\n"
            ]
          },
          "metadata": {}
        },
        {
          "output_type": "display_data",
          "data": {
            "text/plain": [
              "\u001b[1m Non-trainable params: \u001b[0m\u001b[38;5;34m0\u001b[0m (0.00 B)\n"
            ],
            "text/html": [
              "<pre style=\"white-space:pre;overflow-x:auto;line-height:normal;font-family:Menlo,'DejaVu Sans Mono',consolas,'Courier New',monospace\"><span style=\"font-weight: bold\"> Non-trainable params: </span><span style=\"color: #00af00; text-decoration-color: #00af00\">0</span> (0.00 B)\n",
              "</pre>\n"
            ]
          },
          "metadata": {}
        }
      ]
    },
    {
      "cell_type": "code",
      "source": [
        "ca = CAModel(CHN)\n",
        "x = seed\n",
        "for i in range(100):\n",
        "  x= ca(x)\n",
        "plt.imshow(to_rgb(x[0]))\n",
        "plt.show()\n",
        "\n",
        "\n"
      ],
      "metadata": {
        "colab": {
          "base_uri": "https://localhost:8080/",
          "height": 433
        },
        "id": "nCvgNxBJi0Ao",
        "outputId": "3eb249d7-96e7-4676-9406-cac0e3ad337e"
      },
      "execution_count": 4,
      "outputs": [
        {
          "output_type": "display_data",
          "data": {
            "text/plain": [
              "<Figure size 640x480 with 1 Axes>"
            ],
            "image/png": "[encoded data removed]"
          },
          "metadata": {}
        }
      ]
    },
    {
      "cell_type": "code",
      "source": [
        "# Definir el optimizador\n",
        "lr = tf.keras.optimizers.schedules.PiecewiseConstantDecay([1000], [1e-3, 3e-4])\n",
        "trainer = tf.optimizers.Adam(learning_rate=lr)\n",
        "\n",
        "# Función de entrenamiento\n",
        "@tf.function\n",
        "def train_step(seed, target, ca, trainer):\n",
        "    with tf.GradientTape() as g:\n",
        "        x = seed\n",
        "        for i in range(100):\n",
        "            x = ca(x)\n",
        "        loss = tf.reduce_mean(tf.square(x[..., :4] - target))\n",
        "    params = ca.trainable_variables\n",
        "    grads = g.gradient(loss, params)\n",
        "    grads = [g / (tf.norm(g) + 1e-8) for g in grads]  # Regularización de gradientes\n",
        "    trainer.apply_gradients(zip(grads, params))\n",
        "    return loss, x\n",
        "\n",
        "# Entrenamiento\n",
        "start_time = time.time()\n",
        "loss_log = []\n",
        "\n",
        "for i in range(10000):\n",
        "    iter_start_time = time.time()\n",
        "    loss, x = train_step(seed, target, ca, trainer)\n",
        "    iter_end_time = time.time()\n",
        "    iter_duration = iter_end_time - iter_start_time\n",
        "\n",
        "    loss_log.append((loss.numpy(), iter_duration))\n",
        "\n",
        "    if i % 20 == 0:\n",
        "        clear_output(True)\n",
        "        plt.imshow(to_rgb(x[0]))\n",
        "        plt.show()\n",
        "        plt.plot([log[0] for log in loss_log], '.', alpha=0.3)\n",
        "        plt.yscale('log')\n",
        "        plt.show()\n",
        "        print(f\"Iteration: {i}, Loss: {loss.numpy()}, Time per iteration: {iter_duration:.4f} seconds\", flush=True)\n",
        "\n",
        "    if loss.numpy() < 0.00006:\n",
        "        print(f\"Loss reached {loss.numpy()} at iteration {i}\")\n",
        "        break\n",
        "\n",
        "total_time = time.time() - start_time\n",
        "print(f\"Total training time: {total_time:.2f} seconds\")"
      ],
      "metadata": {
        "colab": {
          "base_uri": "https://localhost:8080/",
          "height": 920
        },
        "id": "4PBYxWqcjOvL",
        "outputId": "2119307e-3a38-44c5-8bd6-958b6d00554f"
      },
      "execution_count": 5,
      "outputs": [
        {
          "output_type": "stream",
          "name": "stderr",
          "text": [
            "WARNING:matplotlib.image:Clipping input data to the valid range for imshow with RGB data ([0..1] for floats or [0..255] for integers).\n"
          ]
        },
        {
          "output_type": "display_data",
          "data": {
            "text/plain": [
              "<Figure size 640x480 with 1 Axes>"
            ],
            "image/png": "[encoded data removed]"
          },
          "metadata": {}
        },
        {
          "output_type": "display_data",
          "data": {
            "text/plain": [
              "<Figure size 640x480 with 1 Axes>"
            ],
            "image/png": "[encoded data removed]"
          },
          "metadata": {}
        },
        {
          "output_type": "stream",
          "name": "stdout",
          "text": [
            "Iteration: 1840, Loss: 7.356690184678882e-05, Time per iteration: 0.0914 seconds\n",
            "Loss reached 4.7372108383569866e-05 at iteration 1845\n",
            "Total training time: 261.58 seconds\n"
          ]
        }
      ]
    },
    {
      "cell_type": "code",
      "execution_count": null,
      "metadata": {
        "id": "19egci6j8gfa"
      },
      "outputs": [],
      "source": [
        "\"\"\"renombramiento de las imagenes \"\"\"\n",
        "imagen_original = np.array(to_rgb(target))\n",
        "imagen_replicada = to_rgb(x[0])\n",
        "imagen_replicada = np.array(imagen_replicada)\n",
        "\n",
        "\n",
        "\n",
        "\n",
        "# Forzar los valores a estar en el rango [-1, 1]\n",
        "imagen_replicada = np.clip(imagen_replicada, 0, 1)\n",
        "\n",
        "#Imprimir la imagen_replicada\n",
        "print('Esta es la matri de la imagen replicada', imagen_replicada)\n",
        "\n",
        "\n",
        "\n",
        "\n",
        "\n",
        "\n",
        "#Convertir a escalas a grises\n",
        "imagen_original = cv2.cvtColor(imagen_original, cv2.COLOR_RGB2GRAY)\n",
        "imagen_replicada = cv2.cvtColor(imagen_replicada, cv2.COLOR_RGB2GRAY)\n",
        "\n",
        "\n",
        "\n",
        "\n",
        "\n",
        "\n",
        "\"\"\"Visualización de imagenes\"\"\"\n",
        "# Visualización de las dos imágenes (fuente y creada)\n",
        "plt.subplot(1, 2, 1)\n",
        "plt.imshow(imagen_original, cmap='gray')\n",
        "plt.title('Imagen original')\n",
        "\n",
        "plt.subplot(1, 2, 2)\n",
        "plt.imshow(imagen_replicada, cmap='gray')\n",
        "plt.title('Imagen replicada')\n",
        "\n",
        "plt.show()\n",
        "\n"
      ]
    },
    {
      "cell_type": "code",
      "execution_count": null,
      "metadata": {
        "id": "pW0VCR0OLCsC"
      },
      "outputs": [],
      "source": [
        "\"\"\"Imagen diferencia\"\"\"\n",
        "\n",
        "#Diferencia entre las imagenes\n",
        "imagen_diferencia =np.abs(imagen_original - imagen_replicada)\n",
        "\n",
        "#Confirmación de matriz Numpy de  imagen diferencia}\n",
        "imagen_diferencia = np.array(imagen_diferencia)\n",
        "\n",
        "\n",
        "# Obtener los valores mínimos y máximos de la imagen de diferencia\n",
        "minvalor = np.min(imagen_diferencia)\n",
        "maxvalor = np.max(imagen_diferencia)\n",
        "print(f\"Valor mínimo de la imagen diferencia: {minvalor}\")\n",
        "print(f\"Valor máximo de la imagen diferenica: {maxvalor}\")\n",
        "\n",
        "\n",
        "\"\"\"Visualización de la imagen diferencia\"\"\"\n",
        "plt.figure()\n",
        "plt.title('Imagen de Diferencia')\n",
        "plt.imshow(imagen_diferencia,cmap='Spectral')\n",
        "\n",
        "plt.colorbar()\n",
        "\n",
        "plt.show()\n",
        "\n",
        "print(np.min(imagen_replicada))\n",
        "print(np.max(imagen_replicada))\n",
        "\n",
        "\n"
      ]
    },
    {
      "cell_type": "code",
      "execution_count": null,
      "metadata": {
        "id": "84ZT1D0Y3BTJ"
      },
      "outputs": [],
      "source": [
        "\"\"\"Calculo de la porosidad\"\"\"\n",
        "\n",
        "#Porosidad imagen original\n",
        "phi_original = np.sum(imagen_original ==1) / (np.sum(imagen_original == 0) + np.sum(imagen_original == 1))\n",
        "print(f'La porosidad total de la imagen original es {phi_original}')\n",
        "print(f\"La porosidad total en porcentaje de la imagen original es {phi_original*100}% \\n\")\n",
        "\n",
        "\n",
        "#Porosidad imagen replicada\n",
        "phi_replicada = np.sum(imagen_replicada > 0.99) / (np.sum(imagen_original == 0 ) + np.sum(imagen_original == 1))\n",
        "print(f'La porosidad total de la imagen replicada es {phi_replicada}')\n",
        "print(f\"La porosidad total en porcentaje de la imagen replicada es {phi_replicada*100}% \\n\")\n",
        "\n",
        "\n",
        "\n",
        "\n",
        "\"\"\"Calculo de errores de imagenes\"\"\"\n",
        "#Error absoluto medio (Promedio de las diferencias)\n",
        "diferencia_absoluta = np.abs(imagen_original - imagen_replicada)\n",
        "suma_diferencias = np.sum(diferencia_absoluta)\n",
        "\n",
        "total_pixeles= np.sum(imagen_original > 0.99) + np.sum(imagen_original == 1)\n",
        "promedio_diferencia = suma_diferencias / total_pixeles\n",
        "print(f\"El promedio de las diferencias es : {promedio_diferencia}\", \"\\n\")\n",
        "\n",
        "#Error relativo\n",
        "error_relativo = (np.abs(np.sum(imagen_original) - np.sum(imagen_replicada))) / np.sum(imagen_original)\n",
        "error_relativo_porcentaje = error_relativo * 100\n",
        "print(f'El error relativo de la imagen creada es {error_relativo}')\n",
        "print(f'El error relativo en porcentaje de la imagen creada es {error_relativo_porcentaje}% \\n')\n",
        "\n",
        "\n",
        "\"\"\"Calculo de errores de la porosidad\"\"\"\n",
        "\n",
        "#Diferencia de porosidades\n",
        "error_absoluto_phi = np.abs(phi_original - phi_replicada)\n",
        "print(f'El la diferencia entre las porosidades es {error_absoluto_phi} \\n')\n",
        "\n",
        "#Error relativo\n",
        "error_relativo_phi = error_absoluto_phi / phi_original\n",
        "print(f'El error relativo de la porosidad es {error_relativo_phi}')"
      ]
    },
    {
      "cell_type": "code",
      "execution_count": null,
      "metadata": {
        "id": "7CNhMq8h5mKO",
        "colab": {
          "base_uri": "https://localhost:8080/"
        },
        "outputId": "3aef7fbe-e026-4550-c757-09ae1341075d"
      },
      "outputs": [
        {
          "output_type": "stream",
          "name": "stdout",
          "text": [
            "Introduzca el nombre que desee que tenga la imagen replicadaSlide_1901\n",
            "La imagen creada ha sido guardada correctamente \n",
            "\n"
          ]
        }
      ],
      "source": [
        "\n",
        "\n",
        "\"\"\"Guardar imagen\"\"\"\n",
        "\"\"\"Guardar imagen replicada\"\"\"\n",
        "\n",
        "# Redimensionar la imagen creada a valores entre 0 y 255\n",
        "imagen_replicada *= 255\n",
        "imagen_replicada = imagen_replicada.astype(np.uint8)\n",
        "\n",
        "# Guardar la imagen creada en el disco\n",
        "output_image = input('Introduzca el nombre que desee que tenga la imagen replicada')\n",
        "cv2.imwrite(f'/content/drive/MyDrive/Poyecto_tesis_Licenciatura/Imagenes_replicadas_Tesis/Replicada con automata/{output_image}.png', imagen_replicada)\n",
        "\n",
        "print(\"La imagen creada ha sido guardada correctamente \\n\")"
      ]
    }
  ],
  "metadata": {
    "accelerator": "GPU",
    "colab": {
      "gpuType": "L4",
      "provenance": [],
      "mount_file_id": "1HxoMeWk-7atepaP-_Z44VK4kDyiXqMlG",
      "authorship_tag": "ABX9TyO4MOF5PIy4asAJDvpTlicL",
      "include_colab_link": true
    },
    "kernelspec": {
      "display_name": "Python 3",
      "name": "python3"
    },
    "language_info": {
      "name": "python"
    }
  },
  "nbformat": 4,
  "nbformat_minor": 0
}